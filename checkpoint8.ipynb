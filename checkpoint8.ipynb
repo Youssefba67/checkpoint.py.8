{
 "cells": [
  {
   "cell_type": "code",
   "execution_count": 55,
   "id": "8f4ee841",
   "metadata": {},
   "outputs": [
    {
     "name": "stdout",
     "output_type": "stream",
     "text": [
      "What is Python language?                                                \n",
      "Python is a widely used high-level, general-purpose, interpreted, dynamic programming language.Its design philosophy emphasizes code readability, and its syntax allows programmers to express concepts in fewer lines of code than possible in \n",
      "languages such as C++ or Java. \n",
      "Python supports multiple programming paradigms, including object-oriented, imperative and functional programming or procedural styles. It features a dynamic type system and automatic memory management and has a large and comprehensive standard library.The best way we learn anything is by practice and exercise questions. We  have started this section for those (beginner to intermediate) who are familiar with Python."
     ]
    }
   ],
   "source": [
    "f = open('python.txt')\n",
    "for line in f :\n",
    "    print(line,end=\"\")\n",
    "    \n",
    "f.close()    "
   ]
  },
  {
   "cell_type": "code",
   "execution_count": 91,
   "id": "b3d006fb",
   "metadata": {},
   "outputs": [
    {
     "name": "stdout",
     "output_type": "stream",
     "text": [
      "What is Python language?                                                \n",
      "\n",
      "Python is a widely used high-level, general-purpose, interpreted, dynamic programming language.Its design philosophy emphasizes code readability, and its syntax allows programmers to express concepts in fewer lines of code than possible in \n",
      "\n",
      "languages such as C++ or Java. \n",
      "\n",
      "Python supports multiple programming paradigms, including object-oriented, imperative and functional programming or procedural styles. It features a dynamic type system and automatic memory management and has a large and comprehensive standard library.The best way we learn anything is by practice and exercise questions. We  have started this section for those (beginner to intermediate) who are familiar with Python.\n"
     ]
    }
   ],
   "source": [
    "def read_firstnlines(fname,n):\n",
    "    with open('python.txt') as f:\n",
    "        for line in (f.readlines() [n:]):\n",
    "            print(line)\n",
    "\n",
    "read_lastnlines('python.txt',0)\n",
    "    "
   ]
  },
  {
   "cell_type": "code",
   "execution_count": 90,
   "id": "fc0165ad",
   "metadata": {},
   "outputs": [
    {
     "name": "stdout",
     "output_type": "stream",
     "text": [
      "What is Python language?                                                \n",
      "\n",
      "Python is a widely used high-level, general-purpose, interpreted, dynamic programming language.Its design philosophy emphasizes code readability, and its syntax allows programmers to express concepts in fewer lines of code than possible in \n",
      "\n",
      "languages such as C++ or Java. \n",
      "\n",
      "Python supports multiple programming paradigms, including object-oriented, imperative and functional programming or procedural styles. It features a dynamic type system and automatic memory management and has a large and comprehensive standard library.The best way we learn anything is by practice and exercise questions. We  have started this section for those (beginner to intermediate) who are familiar with Python.\n"
     ]
    }
   ],
   "source": [
    "def read_lastnlines(fname,n):\n",
    "    with open('python.txt') as f:\n",
    "        for line in (f.readlines() [-n:]):\n",
    "            print(line)\n",
    "\n",
    "read_lastnlines('python.txt',5)"
   ]
  },
  {
   "cell_type": "code",
   "execution_count": 92,
   "id": "91188590",
   "metadata": {},
   "outputs": [
    {
     "name": "stdout",
     "output_type": "stream",
     "text": [
      "148\n"
     ]
    }
   ],
   "source": [
    "def count_words(filepath):\n",
    "    with open(filepath) as f:\n",
    "        data = f.read()\n",
    "        data.replace(\",\", \" \")\n",
    "        return len(data.split(\" \"))\n",
    "print(count_words(\"python.txt\"))"
   ]
  },
  {
   "cell_type": "code",
   "execution_count": 97,
   "id": "5ab73f9f",
   "metadata": {},
   "outputs": [
    {
     "name": "stdout",
     "output_type": "stream",
     "text": [
      "['languages such as C++ or Java. \\n', 'Python supports multiple programming paradigms, including object-oriented, imperative and functional programming or procedural styles. It features a dynamic type system and automatic memory management and has a large and comprehensive standard library.The best way we learn anything is by practice and exercise questions. We  have started this section for those (beginner to intermediate) who are familiar with Python.']\n"
     ]
    }
   ],
   "source": [
    "f = open(\"python.txt\", \"r\")\n",
    "lines = f. readlines()\n",
    "last_lines = lines[-2:]\n",
    "print(last_lines)\n",
    "f. close()"
   ]
  }
 ],
 "metadata": {
  "kernelspec": {
   "display_name": "Python 3 (ipykernel)",
   "language": "python",
   "name": "python3"
  },
  "language_info": {
   "codemirror_mode": {
    "name": "ipython",
    "version": 3
   },
   "file_extension": ".py",
   "mimetype": "text/x-python",
   "name": "python",
   "nbconvert_exporter": "python",
   "pygments_lexer": "ipython3",
   "version": "3.9.7"
  }
 },
 "nbformat": 4,
 "nbformat_minor": 5
}
